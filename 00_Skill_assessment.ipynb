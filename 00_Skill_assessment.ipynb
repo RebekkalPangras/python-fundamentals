{
  "nbformat": 4,
  "nbformat_minor": 0,
  "metadata": {
    "colab": {
      "name": "00 Skill assessment.ipynb",
      "provenance": [],
      "include_colab_link": true
    },
    "kernelspec": {
      "name": "python3",
      "display_name": "Python 3"
    },
    "language_info": {
      "name": "python"
    }
  },
  "cells": [
    {
      "cell_type": "markdown",
      "metadata": {
        "id": "view-in-github",
        "colab_type": "text"
      },
      "source": [
        "<a href=\"https://colab.research.google.com/github/RebekkalPangras/python-fundamentals/blob/main/00_Skill_assessment.ipynb\" target=\"_parent\"><img src=\"https://colab.research.google.com/assets/colab-badge.svg\" alt=\"Open In Colab\"/></a>"
      ]
    },
    {
      "cell_type": "markdown",
      "metadata": {
        "id": "-vVXrDTXbDzp"
      },
      "source": [
        "### Exercise 1 - printing\n",
        "---\n",
        "Print \"hello world\"\n",
        "\n",
        "**Expected Output**  \n",
        "hello world "
      ]
    },
    {
      "cell_type": "code",
      "metadata": {
        "id": "Z_Jc0SncbEkM",
        "outputId": "95c91103-1e70-4fcc-9cad-ffde5065e20c",
        "colab": {
          "base_uri": "https://localhost:8080/"
        }
      },
      "source": [
        "print(\"hello world\")\n"
      ],
      "execution_count": 1,
      "outputs": [
        {
          "output_type": "stream",
          "name": "stdout",
          "text": [
            "hello world\n"
          ]
        }
      ]
    },
    {
      "cell_type": "markdown",
      "metadata": {
        "id": "n-u42LuZbPc2"
      },
      "source": [
        "### Exercise 2 - using input\n",
        "---\n",
        "Create an input that asks for the user's name and stores it in a variable called name and `print` it \n",
        "\n",
        "**Test Input**  \n",
        "Marianne \n",
        "\n",
        "**Expected Output**  \n",
        "Marianne "
      ]
    },
    {
      "cell_type": "code",
      "metadata": {
        "id": "02KvhKPdbZW-",
        "outputId": "f80e1e7b-862f-4247-9926-a81ad3587e02",
        "colab": {
          "base_uri": "https://localhost:8080/"
        }
      },
      "source": [
        "name = input(\"Enter your name\")\n",
        "print(name)"
      ],
      "execution_count": 2,
      "outputs": [
        {
          "output_type": "stream",
          "name": "stdout",
          "text": [
            "Enter your nameRebecca\n",
            "Rebecca\n"
          ]
        }
      ]
    },
    {
      "cell_type": "markdown",
      "metadata": {
        "id": "oXpvEknHbZvz"
      },
      "source": [
        "### Exercise 3 - operators and datatypes\n",
        "---\n",
        "\n",
        "Create 2 variables called **num1** and **num2** which each store an input function which asks for a whole number and stores it as an integer\n",
        "\n",
        "Create a third variable called **num3** which sums **num1** and **num2** together\n",
        "\n",
        "**Test Input**  \n",
        "11  \n",
        "22  \n",
        "\n",
        "**Expected Output**  \n",
        "33\n"
      ]
    },
    {
      "cell_type": "code",
      "metadata": {
        "id": "WVnfbWjdcJPD",
        "outputId": "b3932beb-c8c9-4bd8-8fee-a4879b88eb84",
        "colab": {
          "base_uri": "https://localhost:8080/"
        }
      },
      "source": [
        "num1 = int(input(\"Enter first number \"))\n",
        "num2 = int(input(\"Enter second number \"))\n",
        "num3 = num1 + num2\n",
        "print(num3)"
      ],
      "execution_count": 5,
      "outputs": [
        {
          "output_type": "stream",
          "name": "stdout",
          "text": [
            "Enter first number 11\n",
            "Enter second number 22\n",
            "33\n"
          ]
        }
      ]
    },
    {
      "cell_type": "markdown",
      "metadata": {
        "id": "EDPftM6dcJzK"
      },
      "source": [
        "### Exercise 4 - using if/else\n",
        "---\n",
        "\n",
        "Use `if` to sum two inputed integers. However, if the sum is between 15 to 20 it will print 20, else return the correct sum\n",
        "\n",
        "**Test Input**  \n",
        "3  \n",
        "15  \n",
        "\n",
        "**Expected Output**  \n",
        "20"
      ]
    },
    {
      "cell_type": "code",
      "metadata": {
        "id": "JPXearXfdPZS",
        "outputId": "500cc8c9-6426-4f47-a0a1-20ad39570681",
        "colab": {
          "base_uri": "https://localhost:8080/"
        }
      },
      "source": [
        "num1 = int(input())\n",
        "num2 = int(input())\n",
        "num3 = num1 + num2\n",
        "\n",
        "if num3 > 14 and num3 < 21:\n",
        "  print(20)\n",
        "else:\n",
        "  print(num3)"
      ],
      "execution_count": 6,
      "outputs": [
        {
          "output_type": "stream",
          "name": "stdout",
          "text": [
            "3\n",
            "15\n",
            "20\n"
          ]
        }
      ]
    },
    {
      "cell_type": "markdown",
      "metadata": {
        "id": "c7hKrWgIdPrr"
      },
      "source": [
        "### Exercise 5 - using for loops\n",
        "---\n",
        "`Print` each letter of the string \"supercalifragilistic\" using a `for` loop\n",
        "\n",
        "**Expected Output**   \n",
        "s  \n",
        "u  \n",
        "p  \n",
        "e  \n",
        "r  \n",
        "c  \n",
        "a  \n",
        "l  \n",
        "i  \n",
        "f  \n",
        "r  \n",
        "a  \n",
        "g  \n",
        "i  \n",
        "l  \n",
        "i  \n",
        "s  \n",
        "t  \n",
        "i  \n",
        "c  "
      ]
    },
    {
      "cell_type": "code",
      "metadata": {
        "id": "bxE5C2jYdg2w",
        "outputId": "950782ff-b85d-4791-8130-ff3b5517cb99",
        "colab": {
          "base_uri": "https://localhost:8080/"
        }
      },
      "source": [
        "for letter in 'supercalifragilistic':\n",
        "  print(letter)"
      ],
      "execution_count": 10,
      "outputs": [
        {
          "output_type": "stream",
          "name": "stdout",
          "text": [
            "s\n",
            "u\n",
            "p\n",
            "e\n",
            "r\n",
            "c\n",
            "a\n",
            "l\n",
            "i\n",
            "f\n",
            "r\n",
            "a\n",
            "g\n",
            "i\n",
            "l\n",
            "i\n",
            "s\n",
            "t\n",
            "i\n",
            "c\n"
          ]
        }
      ]
    },
    {
      "cell_type": "markdown",
      "metadata": {
        "id": "Bf_wev6UdhPH"
      },
      "source": [
        "### Exercise 6 - using while loops\n",
        "---\n",
        "Write a program that asks the user to enter a positive number.\n",
        "`if` the number entered is not positive (ie it is less than 0) the user will be shown an error message and asked to enter the number again. `if` a positive number is entered, the program should print \"Thankyou, goodbye\"\n",
        "\n",
        "**Test Input**   \n",
        "-1   \n",
        "4 \n",
        "\n",
        "\n",
        "**Expected Output**  \n",
        "Error   \n",
        "Thankyou, goodbye"
      ]
    },
    {
      "cell_type": "code",
      "metadata": {
        "id": "muSpMY4vdtfD",
        "outputId": "c2d62a7b-fd4e-4256-9bda-e92e2b04ca73",
        "colab": {
          "base_uri": "https://localhost:8080/"
        }
      },
      "source": [
        "if int(input()) < 0:\n",
        "  print('Error')\n",
        "else:\n",
        "  print('Thankyou, goodbye')"
      ],
      "execution_count": 12,
      "outputs": [
        {
          "output_type": "stream",
          "name": "stdout",
          "text": [
            "4\n",
            "Thankyou, goodbye\n"
          ]
        }
      ]
    },
    {
      "cell_type": "markdown",
      "metadata": {
        "id": "Q-drRJ2kdt4g"
      },
      "source": [
        "### Exercise 7 - lists \n",
        "---\n",
        "The `sorted()` function will sort a list.\n",
        "Create a list of 5 numbers and use the sorted function to sort them, storing the sorted list in a variabled called **sorted_list**\n",
        "\n",
        "**Test Input**  \n",
        "[1, 87, -1, 8, 21]\n",
        "\n",
        "**Expected Output**  \n",
        "[-1, 1, 8, 21, 87]"
      ]
    },
    {
      "cell_type": "code",
      "metadata": {
        "id": "W4MxMJ1ieGqe",
        "outputId": "badfc32a-b126-4f2f-9379-812688dae8ce",
        "colab": {
          "base_uri": "https://localhost:8080/"
        }
      },
      "source": [
        "unsorted_list = input()\n",
        "sorted_list = sorted(unsorted_list)\n",
        "\n",
        "print(sorted_list)"
      ],
      "execution_count": 14,
      "outputs": [
        {
          "output_type": "stream",
          "name": "stdout",
          "text": [
            "[1, 87, -1, 8, 21]\n",
            "[-1, 1, 8, 21, 87]\n"
          ]
        }
      ]
    },
    {
      "cell_type": "markdown",
      "metadata": {
        "id": "ZL0wbkQPeG6j"
      },
      "source": [
        "### Exercise 8 - dictionaries \n",
        "---\n",
        "Add an empty dictionary for a person (name, age and postcode). Read a person's details using the `input()` function and store them in your dictionary. \n",
        "\n",
        "Make sure that the entered age is a number. \n",
        "\n",
        "Print the dictionary.  \n",
        "\n",
        "**Test Input**  \n",
        "Dave  \n",
        "24  \n",
        "SE11AB  \n",
        "\n",
        "**Expected Output**  \n",
        "{'name': 'Dave', 'age': 24, 'postcode': 'SE11AB'}"
      ]
    },
    {
      "cell_type": "code",
      "metadata": {
        "id": "jZc7zRAkeglf",
        "outputId": "eede9675-9a55-49b0-889e-32e2dac22c9b",
        "colab": {
          "base_uri": "https://localhost:8080/"
        }
      },
      "source": [
        "person = {}\n",
        "person[\"name\"] = input(\"Name \")\n",
        "person[\"age\"] = int(input(\"Age \"))\n",
        "person[\"postcode\"] = input(\"Post Code \")\n",
        "print(person)\n"
      ],
      "execution_count": 15,
      "outputs": [
        {
          "output_type": "stream",
          "name": "stdout",
          "text": [
            "Name Dave\n",
            "Age 24\n",
            "Post Code SE11AB\n",
            "{'name': 'Dave', 'age': 24, 'postcode': 'SE11AB'}\n"
          ]
        }
      ]
    },
    {
      "cell_type": "markdown",
      "metadata": {
        "id": "lpT0N5HqehHK"
      },
      "source": [
        "### Exercise 9 - functions, lists and loops\n",
        "---\n",
        "Write a function to create and `print` a list where the values are square of numbers between 1 and 30 (both included).\n",
        "\n",
        "**Expected Output**  \n",
        "[0, 1, 4, 9, 16, 25, 36, 49, 64, 81, 100, 121, 144, 169, 196, 225, 256, 289, 324, 361, 400, 441, 484, 529, 576, 625, 676, 729, 784, 841, 900]\n"
      ]
    },
    {
      "cell_type": "code",
      "metadata": {
        "id": "_h6r0hAce7ro",
        "outputId": "8241c605-7af1-471c-b84d-19698e33c505",
        "colab": {
          "base_uri": "https://localhost:8080/"
        }
      },
      "source": [
        "def square(num):\n",
        "  return num * num\n",
        "\n",
        "output = []\n",
        "for num in range(0, 31):\n",
        "  output.append(square(num))\n",
        "print(output)\n"
      ],
      "execution_count": 17,
      "outputs": [
        {
          "output_type": "stream",
          "name": "stdout",
          "text": [
            "[0, 1, 4, 9, 16, 25, 36, 49, 64, 81, 100, 121, 144, 169, 196, 225, 256, 289, 324, 361, 400, 441, 484, 529, 576, 625, 676, 729, 784, 841, 900]\n"
          ]
        }
      ]
    },
    {
      "cell_type": "markdown",
      "metadata": {
        "id": "GPoXDPh2e8LB"
      },
      "source": [
        "### Exercise 10 - functions\n",
        "---\n",
        "Create a function called **show_mood** that takes in a current mood as a parameter of the function and `return` a sentence in the following format: \"Today, I am feeling {mood}\". However, `if` an empty string is passed, `return` \"Today, I am feeling neutral\".\n",
        "\n",
        "**Test input**  \n",
        "show_mood(\"happy\")    \n",
        "show_mood(\"sad\")  \n",
        "show_mood(\"\")   \n",
        "\n",
        "**Expected output**  \n",
        "\"Today, I am feeling happy\"  \n",
        "\"Today, I am feeling sad\"  \n",
        "\"Today, I am feeling neutral\"   \n",
        "\n"
      ]
    },
    {
      "cell_type": "code",
      "metadata": {
        "id": "SvF1CessfoqC",
        "outputId": "1e0ef01b-8952-47df-9cd2-0479f320d16c",
        "colab": {
          "base_uri": "https://localhost:8080/"
        }
      },
      "source": [
        "def show_mood(mood):\n",
        "  current_mood = \"\"\n",
        "  if(mood):\n",
        "    current_mood = mood\n",
        "  else:\n",
        "    current_mood = 'neutral'\n",
        "  print('Today, I am feeling {}'.format(current_mood))\n",
        "\n",
        "mood = input()\n",
        "show_mood(mood)"
      ],
      "execution_count": 18,
      "outputs": [
        {
          "output_type": "stream",
          "name": "stdout",
          "text": [
            "Happy\n",
            "Today, I am feeling Happy\n"
          ]
        }
      ]
    },
    {
      "cell_type": "markdown",
      "metadata": {
        "id": "9U9rREgKumh1"
      },
      "source": [
        "### OPTIONAL Challenge\n",
        "---\n",
        "Create a function called **show_mood** that takes in a current mood as a parameter of the function and `return` a sentence in the following format: \"Today, I am feeling {mood}\". **However, if *no argument* is passed, it will assume that the mood is neutral**.\n",
        "\n",
        "**Test input**  \n",
        "show_mood(\"happy\")    \n",
        "show_mood(\"sad\")  \n",
        "show_mood()   \n",
        "\n",
        "**Expected output**  \n",
        "\"Today, I am feeling happy\"  \n",
        "\"Today, I am feeling sad\"  \n",
        "\"Today, I am feeling neutral\"   "
      ]
    },
    {
      "cell_type": "code",
      "metadata": {
        "id": "B2fYBD0Ouw2E",
        "outputId": "b0441d16-889f-4e5e-e4d7-d024b4744678",
        "colab": {
          "base_uri": "https://localhost:8080/"
        }
      },
      "source": [
        "def show_mood(mood='neutral'):\n",
        "  print('Today, I am feeling {}'.format(mood))\n",
        "\n",
        "mood = input()\n",
        "if mood: \n",
        "  show_mood(mood)\n",
        "else:\n",
        "  show_mood()"
      ],
      "execution_count": 24,
      "outputs": [
        {
          "output_type": "stream",
          "name": "stdout",
          "text": [
            "\n",
            "Today, I am feeling neutral\n"
          ]
        }
      ]
    },
    {
      "cell_type": "code",
      "source": [],
      "metadata": {
        "id": "rNQ14Mr59SVJ"
      },
      "execution_count": null,
      "outputs": []
    }
  ]
}